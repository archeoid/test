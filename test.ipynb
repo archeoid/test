{
 "cells": [
  {
   "cell_type": "markdown",
   "source": [
    "## Test repo\n",
    "$\\hat{Y} = \\hat{\\beta}_{0} + \\sum \\limits _{j=1} ^{p} X_{j}\\hat{\\beta}_{j} $"
   ],
   "metadata": {}
  },
  {
   "cell_type": "code",
   "execution_count": null,
   "source": [
    "float sigmoid(float x) {\n",
    "    if(x < 0.125)\n",
    "    {\n",
    "        return 4f*x;\n",
    "    } \n",
    "    else if(x > 0.875)\n",
    "    {\n",
    "        return 4f * (x - 0.75f);\n",
    "    }\n",
    "    else\n",
    "    {\n",
    "        return 0.5f;\n",
    "    }\n",
    "}\n",
    "Console.log(sigmoid(0.2));"
   ],
   "outputs": [],
   "metadata": {
    "dotnet_interactive": {
     "language": "csharp"
    }
   }
  }
 ],
 "metadata": {
  "orig_nbformat": 4,
  "language_info": {
   "file_extension": ".cs",
   "mimetype": "text/x-csharp",
   "name": "C#",
   "pygments_lexer": "csharp",
   "version": "9.0"
  },
  "kernelspec": {
   "display_name": ".NET (C#)",
   "language": "C#",
   "name": ".net-csharp"
  }
 },
 "nbformat": 4,
 "nbformat_minor": 2
}